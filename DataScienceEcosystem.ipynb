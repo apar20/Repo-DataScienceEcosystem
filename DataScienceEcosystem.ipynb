{
  "metadata": {
    "language_info": {
      "codemirror_mode": {
        "name": "python",
        "version": 3
      },
      "file_extension": ".py",
      "mimetype": "text/x-python",
      "name": "python",
      "nbconvert_exporter": "python",
      "pygments_lexer": "ipython3",
      "version": "3.8"
    },
    "kernelspec": {
      "name": "python",
      "display_name": "Python (Pyodide)",
      "language": "python"
    }
  },
  "nbformat_minor": 4,
  "nbformat": 4,
  "cells": [
    {
      "cell_type": "markdown",
      "source": "# Data Science Tools and Ecosystem",
      "metadata": {
        "tags": []
      }
    },
    {
      "cell_type": "markdown",
      "source": "## In this notebook, Data Science Tools and Ecosystem are summarized",
      "metadata": {}
    },
    {
      "cell_type": "markdown",
      "source": "### Data Science languages: \n1. Python\n2. R\n3. Julia",
      "metadata": {}
    },
    {
      "cell_type": "markdown",
      "source": "### Data Science libraries:\n| Python   |    R     |  Julia       |\n|:--------:|:--------:|:------------:|\n|  Pandas  |  dplyr   | DrWatson     |\n|  NumPy   |  tidyr   |SciMLTutorials|\n|  SciPy   | ggplot2  |StatsPlots    |\n",
      "metadata": {}
    },
    {
      "cell_type": "markdown",
      "source": "### Data Science tools: \n| Data Science tools   |\n|:--------:|\n|  RStudio  |\n|  Anaconda   |\n|  VS Code   |\n",
      "metadata": {}
    },
    {
      "cell_type": "markdown",
      "source": "## Below are a few examples of evaluating arithmetic expressions in Python",
      "metadata": {}
    },
    {
      "cell_type": "code",
      "source": "# This a simple arithmetic expression to mutiply then add integers\n3*4+5",
      "metadata": {
        "trusted": true
      },
      "execution_count": 19,
      "outputs": [
        {
          "execution_count": 19,
          "output_type": "execute_result",
          "data": {
            "text/plain": "17"
          },
          "metadata": {}
        }
      ]
    },
    {
      "cell_type": "code",
      "source": "#This will convert 200 minutes to hours by diving by 60\nmins = 200\nhours = mins/60\nhours",
      "metadata": {
        "trusted": true
      },
      "execution_count": 18,
      "outputs": [
        {
          "execution_count": 18,
          "output_type": "execute_result",
          "data": {
            "text/plain": "3.3333333333333335"
          },
          "metadata": {}
        }
      ]
    },
    {
      "cell_type": "markdown",
      "source": "## Objectives\n\n#### - Create a Jupyter Notebook\n#### - Insert code and markdown cells\n#### - Share your notebook through GitHub",
      "metadata": {}
    },
    {
      "cell_type": "markdown",
      "source": "## Author: Apar Prasad",
      "metadata": {}
    },
    {
      "cell_type": "code",
      "source": "",
      "metadata": {},
      "execution_count": null,
      "outputs": []
    }
  ]
}